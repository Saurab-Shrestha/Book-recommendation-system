{
 "cells": [
  {
   "attachments": {},
   "cell_type": "markdown",
   "metadata": {},
   "source": [
    "# Book Recommendation System - PART 2 (Modeling)"
   ]
  },
  {
   "attachments": {},
   "cell_type": "markdown",
   "metadata": {},
   "source": [
    "## Import Libraries"
   ]
  },
  {
   "cell_type": "code",
   "execution_count": 1,
   "metadata": {},
   "outputs": [],
   "source": [
    "import warnings\n",
    "warnings.filterwarnings('ignore')\n",
    "\n",
    "import pandas as pd\n",
    "import numpy as np\n",
    "import matplotlib.pyplot as plt\n",
    "import seaborn as sns\n",
    "\n",
    "#for content based filtering\n",
    "from sklearn.metrics.pairwise import linear_kernel\n",
    "from sklearn.feature_extraction.text import TfidfVectorizer\n",
    "\n",
    "#for collaborative filtering\n",
    "import os\n",
    "import math\n",
    "import random\n",
    "\n",
    "from surprise import accuracy, Reader, Dataset, dump\n",
    "from surprise import NormalPredictor, KNNBasic, SVD, SVDpp\n",
    "from surprise.model_selection import cross_validate, GridSearchCV"
   ]
  },
  {
   "attachments": {},
   "cell_type": "markdown",
   "metadata": {},
   "source": [
    "## Import Dataset"
   ]
  },
  {
   "cell_type": "code",
   "execution_count": 3,
   "metadata": {},
   "outputs": [],
   "source": [
    "pd.options.display.float_format = '{:.2f}'.format\n",
    "ratings = pd.read_csv('Dataset/ratings.csv')\n",
    "books = pd.read_csv('Dataset/books_cleaned.csv')"
   ]
  },
  {
   "cell_type": "code",
   "execution_count": 4,
   "metadata": {},
   "outputs": [
    {
     "data": {
      "text/html": [
       "<div>\n",
       "<style scoped>\n",
       "    .dataframe tbody tr th:only-of-type {\n",
       "        vertical-align: middle;\n",
       "    }\n",
       "\n",
       "    .dataframe tbody tr th {\n",
       "        vertical-align: top;\n",
       "    }\n",
       "\n",
       "    .dataframe thead th {\n",
       "        text-align: right;\n",
       "    }\n",
       "</style>\n",
       "<table border=\"1\" class=\"dataframe\">\n",
       "  <thead>\n",
       "    <tr style=\"text-align: right;\">\n",
       "      <th></th>\n",
       "      <th>Unnamed: 0</th>\n",
       "      <th>book_id</th>\n",
       "      <th>title</th>\n",
       "      <th>authors</th>\n",
       "      <th>year</th>\n",
       "      <th>pages</th>\n",
       "      <th>description</th>\n",
       "      <th>genres</th>\n",
       "      <th>average_rating</th>\n",
       "      <th>ratings_count</th>\n",
       "      <th>books_count</th>\n",
       "      <th>small_image_url</th>\n",
       "    </tr>\n",
       "  </thead>\n",
       "  <tbody>\n",
       "    <tr>\n",
       "      <th>0</th>\n",
       "      <td>0</td>\n",
       "      <td>1</td>\n",
       "      <td>The Hunger Games (The Hunger Games, #1)</td>\n",
       "      <td>Suzanne Collins</td>\n",
       "      <td>2008</td>\n",
       "      <td>374</td>\n",
       "      <td>winning means fame and fortunelosing means cer...</td>\n",
       "      <td>youngadult, fiction, fantasy, sciencefiction, ...</td>\n",
       "      <td>4.34</td>\n",
       "      <td>4780653</td>\n",
       "      <td>272</td>\n",
       "      <td>https://images.gr-assets.com/books/1447303603s...</td>\n",
       "    </tr>\n",
       "    <tr>\n",
       "      <th>1</th>\n",
       "      <td>1</td>\n",
       "      <td>2</td>\n",
       "      <td>Harry Potter and the Sorcerer's Stone (Harry P...</td>\n",
       "      <td>J.K. Rowling, Mary GrandPré</td>\n",
       "      <td>1997</td>\n",
       "      <td>309</td>\n",
       "      <td>harry potters life is miserable his parents ar...</td>\n",
       "      <td>fantasy, fiction, youngadult, classics</td>\n",
       "      <td>4.44</td>\n",
       "      <td>4602479</td>\n",
       "      <td>491</td>\n",
       "      <td>https://images.gr-assets.com/books/1474154022s...</td>\n",
       "    </tr>\n",
       "    <tr>\n",
       "      <th>2</th>\n",
       "      <td>2</td>\n",
       "      <td>3</td>\n",
       "      <td>Twilight (Twilight, #1)</td>\n",
       "      <td>Stephenie Meyer</td>\n",
       "      <td>2005</td>\n",
       "      <td>501</td>\n",
       "      <td>about three things i was absolutely positive  ...</td>\n",
       "      <td>youngadult, fantasy, romance, fiction, paranormal</td>\n",
       "      <td>3.57</td>\n",
       "      <td>3866839</td>\n",
       "      <td>226</td>\n",
       "      <td>https://images.gr-assets.com/books/1361039443s...</td>\n",
       "    </tr>\n",
       "    <tr>\n",
       "      <th>3</th>\n",
       "      <td>3</td>\n",
       "      <td>4</td>\n",
       "      <td>To Kill a Mockingbird</td>\n",
       "      <td>Harper Lee</td>\n",
       "      <td>1960</td>\n",
       "      <td>324</td>\n",
       "      <td>the unforgettable novel of a childhood in a sl...</td>\n",
       "      <td>classics, fiction, historicalfiction, youngadult</td>\n",
       "      <td>4.25</td>\n",
       "      <td>3198671</td>\n",
       "      <td>487</td>\n",
       "      <td>https://images.gr-assets.com/books/1361975680s...</td>\n",
       "    </tr>\n",
       "    <tr>\n",
       "      <th>4</th>\n",
       "      <td>4</td>\n",
       "      <td>5</td>\n",
       "      <td>The Great Gatsby</td>\n",
       "      <td>F. Scott Fitzgerald</td>\n",
       "      <td>1925</td>\n",
       "      <td>200</td>\n",
       "      <td>alternate cover edition isbn  isbn13 the great...</td>\n",
       "      <td>classics, fiction, historicalfiction, romance</td>\n",
       "      <td>3.89</td>\n",
       "      <td>2683664</td>\n",
       "      <td>1356</td>\n",
       "      <td>https://images.gr-assets.com/books/1490528560s...</td>\n",
       "    </tr>\n",
       "  </tbody>\n",
       "</table>\n",
       "</div>"
      ],
      "text/plain": [
       "   Unnamed: 0  book_id                                              title  \\\n",
       "0           0        1            The Hunger Games (The Hunger Games, #1)   \n",
       "1           1        2  Harry Potter and the Sorcerer's Stone (Harry P...   \n",
       "2           2        3                            Twilight (Twilight, #1)   \n",
       "3           3        4                              To Kill a Mockingbird   \n",
       "4           4        5                                   The Great Gatsby   \n",
       "\n",
       "                       authors  year  pages  \\\n",
       "0              Suzanne Collins  2008    374   \n",
       "1  J.K. Rowling, Mary GrandPré  1997    309   \n",
       "2              Stephenie Meyer  2005    501   \n",
       "3                   Harper Lee  1960    324   \n",
       "4          F. Scott Fitzgerald  1925    200   \n",
       "\n",
       "                                         description  \\\n",
       "0  winning means fame and fortunelosing means cer...   \n",
       "1  harry potters life is miserable his parents ar...   \n",
       "2  about three things i was absolutely positive  ...   \n",
       "3  the unforgettable novel of a childhood in a sl...   \n",
       "4  alternate cover edition isbn  isbn13 the great...   \n",
       "\n",
       "                                              genres  average_rating  \\\n",
       "0  youngadult, fiction, fantasy, sciencefiction, ...            4.34   \n",
       "1             fantasy, fiction, youngadult, classics            4.44   \n",
       "2  youngadult, fantasy, romance, fiction, paranormal            3.57   \n",
       "3   classics, fiction, historicalfiction, youngadult            4.25   \n",
       "4      classics, fiction, historicalfiction, romance            3.89   \n",
       "\n",
       "   ratings_count  books_count  \\\n",
       "0        4780653          272   \n",
       "1        4602479          491   \n",
       "2        3866839          226   \n",
       "3        3198671          487   \n",
       "4        2683664         1356   \n",
       "\n",
       "                                     small_image_url  \n",
       "0  https://images.gr-assets.com/books/1447303603s...  \n",
       "1  https://images.gr-assets.com/books/1474154022s...  \n",
       "2  https://images.gr-assets.com/books/1361039443s...  \n",
       "3  https://images.gr-assets.com/books/1361975680s...  \n",
       "4  https://images.gr-assets.com/books/1490528560s...  "
      ]
     },
     "execution_count": 4,
     "metadata": {},
     "output_type": "execute_result"
    }
   ],
   "source": [
    "books.head()"
   ]
  },
  {
   "cell_type": "code",
   "execution_count": 5,
   "metadata": {},
   "outputs": [
    {
     "data": {
      "text/plain": [
       "Index(['Unnamed: 0', 'book_id', 'title', 'authors', 'year', 'pages',\n",
       "       'description', 'genres', 'average_rating', 'ratings_count',\n",
       "       'books_count', 'small_image_url'],\n",
       "      dtype='object')"
      ]
     },
     "execution_count": 5,
     "metadata": {},
     "output_type": "execute_result"
    }
   ],
   "source": [
    "books.columns"
   ]
  },
  {
   "cell_type": "code",
   "execution_count": 6,
   "metadata": {},
   "outputs": [],
   "source": [
    "books = books.drop(columns=['Unnamed: 0'], axis=1)"
   ]
  },
  {
   "cell_type": "code",
   "execution_count": 7,
   "metadata": {},
   "outputs": [
    {
     "data": {
      "text/plain": [
       "Index(['book_id', 'title', 'authors', 'year', 'pages', 'description', 'genres',\n",
       "       'average_rating', 'ratings_count', 'books_count', 'small_image_url'],\n",
       "      dtype='object')"
      ]
     },
     "execution_count": 7,
     "metadata": {},
     "output_type": "execute_result"
    }
   ],
   "source": [
    "books.columns"
   ]
  },
  {
   "cell_type": "code",
   "execution_count": 8,
   "metadata": {},
   "outputs": [
    {
     "data": {
      "text/html": [
       "<div>\n",
       "<style scoped>\n",
       "    .dataframe tbody tr th:only-of-type {\n",
       "        vertical-align: middle;\n",
       "    }\n",
       "\n",
       "    .dataframe tbody tr th {\n",
       "        vertical-align: top;\n",
       "    }\n",
       "\n",
       "    .dataframe thead th {\n",
       "        text-align: right;\n",
       "    }\n",
       "</style>\n",
       "<table border=\"1\" class=\"dataframe\">\n",
       "  <thead>\n",
       "    <tr style=\"text-align: right;\">\n",
       "      <th></th>\n",
       "      <th>user_id</th>\n",
       "      <th>book_id</th>\n",
       "      <th>rating</th>\n",
       "    </tr>\n",
       "  </thead>\n",
       "  <tbody>\n",
       "    <tr>\n",
       "      <th>0</th>\n",
       "      <td>1</td>\n",
       "      <td>258</td>\n",
       "      <td>5</td>\n",
       "    </tr>\n",
       "    <tr>\n",
       "      <th>1</th>\n",
       "      <td>2</td>\n",
       "      <td>4081</td>\n",
       "      <td>4</td>\n",
       "    </tr>\n",
       "    <tr>\n",
       "      <th>2</th>\n",
       "      <td>2</td>\n",
       "      <td>260</td>\n",
       "      <td>5</td>\n",
       "    </tr>\n",
       "    <tr>\n",
       "      <th>3</th>\n",
       "      <td>2</td>\n",
       "      <td>9296</td>\n",
       "      <td>5</td>\n",
       "    </tr>\n",
       "    <tr>\n",
       "      <th>4</th>\n",
       "      <td>2</td>\n",
       "      <td>2318</td>\n",
       "      <td>3</td>\n",
       "    </tr>\n",
       "  </tbody>\n",
       "</table>\n",
       "</div>"
      ],
      "text/plain": [
       "   user_id  book_id  rating\n",
       "0        1      258       5\n",
       "1        2     4081       4\n",
       "2        2      260       5\n",
       "3        2     9296       5\n",
       "4        2     2318       3"
      ]
     },
     "execution_count": 8,
     "metadata": {},
     "output_type": "execute_result"
    }
   ],
   "source": [
    "ratings.head()"
   ]
  },
  {
   "attachments": {},
   "cell_type": "markdown",
   "metadata": {},
   "source": [
    "## 1. Simple Recommendation"
   ]
  },
  {
   "attachments": {},
   "cell_type": "markdown",
   "metadata": {},
   "source": [
    "One of the easiest way to give recommendation is to rank the book based on `average_rating` or `rating_count` (popularity). However, as we mentioned in EDA, we found:\n",
    "1. Book with relatively lower number of `rating_count` (less popular) when we rank book based on `average_rating`.\n",
    "2. Book with relatively lower `average_rating` when we ranked book based on `rating_count`.\n",
    "\n",
    "Therefore, we need to make a weighted rating of `average_rating` and `rating_count`."
   ]
  },
  {
   "attachments": {},
   "cell_type": "markdown",
   "metadata": {},
   "source": [
    "### a. Recommendation based on Weighted Average of Rating and Popularity\n",
    "\n",
    "One of the easiest way to give recommendation is to rank the book in metadata based on average_rating or rating_count (popularity). However, as we mentioned in the EDA phase, we found:\n",
    "1. Book with relatively lower number of rating_count (less popular) when we rank book based on average_rating.\n",
    "2. Book with relatively lower average_rating when we ranked book based on rating_count.\n",
    "\n",
    "Therefore, we need to make a new scoring of average_rating and rating_count. In this case, I will use rating formula like the one used in IMDB site to determine the Top Rated 250 Movies.\n",
    "\n",
    "New Rating Score is determined by the following equation:\n",
    "![New Rating Formula](new_rating_score.png \"New Rating Score\")"
   ]
  },
  {
   "attachments": {},
   "cell_type": "markdown",
   "metadata": {},
   "source": [
    "where:<br>\n",
    "v = number of ratings (`ratings_count`)<br>\n",
    "m = minimum `ratings_count` required to be recommended<br>\n",
    "R = average of ratings (`average_rating`) <br>\n",
    "C = the mean ratings for all books\n",
    "\n",
    "\n",
    "Now let's determine the appropriate value for m, the number of votes needed to be listed in the chart. For this simple recommender, our cutoff will be the 95th percentile. In order for a book to appear in the recommendation, it must receive at least 95% of the other books on the list (around 2100 ratings)."
   ]
  },
  {
   "cell_type": "code",
   "execution_count": 9,
   "metadata": {},
   "outputs": [],
   "source": [
    "def simple_recommender(books, n=5):\n",
    "    v = books['ratings_count']\n",
    "    m = books['ratings_count'].quantile(0.95)\n",
    "    R = books['average_rating']\n",
    "    C = books['average_rating'].median()\n",
    "    score = (v/(v+m) * R) + (m/(m+v) * C)   \n",
    "    books['score'] = score\n",
    "    \n",
    "    qualified  = books.sort_values('score', ascending=False)\n",
    "    return qualified[['book_id', 'title', 'authors', 'average_rating', 'ratings_count','score']].head(n)"
   ]
  },
  {
   "cell_type": "code",
   "execution_count": 10,
   "metadata": {},
   "outputs": [
    {
     "data": {
      "text/plain": [
       "pandas.core.frame.DataFrame"
      ]
     },
     "execution_count": 10,
     "metadata": {},
     "output_type": "execute_result"
    }
   ],
   "source": [
    "recommend = simple_recommender(books)\n",
    "type(recommend)"
   ]
  },
  {
   "cell_type": "code",
   "execution_count": 11,
   "metadata": {},
   "outputs": [
    {
     "data": {
      "text/plain": [
       "6"
      ]
     },
     "execution_count": 11,
     "metadata": {},
     "output_type": "execute_result"
    }
   ],
   "source": [
    "books = recommend.to_dict()\n",
    "len(books)"
   ]
  },
  {
   "attachments": {},
   "cell_type": "markdown",
   "metadata": {},
   "source": [
    "### b. Evaluation\n",
    "\n",
    "This system offers generalized recommendations to every user based on popularity and average rating of the book. The recommender some flaws. For example, it makes the same suggestion to everyone, regardless of their own preferences. The top of our chart is full with J.K. Rowling's Harry Potter novels.\n",
    "\n",
    "In order to personalize of our recommendations, we are going to create recommendation system that compares books based on a set of metrics and suggests books that are most similar to a particular book that a user liked."
   ]
  },
  {
   "attachments": {},
   "cell_type": "markdown",
   "metadata": {},
   "source": [
    "### 2. Collaborative Filtering"
   ]
  },
  {
   "cell_type": "code",
   "execution_count": 12,
   "metadata": {},
   "outputs": [],
   "source": [
    "#to have reproducible experiments\n",
    "my_seed = 0\n",
    "random.seed(my_seed)\n",
    "np.random.seed(my_seed)"
   ]
  },
  {
   "cell_type": "code",
   "execution_count": 13,
   "metadata": {},
   "outputs": [],
   "source": [
    "#Load the full dataset\n",
    "reader = Reader(rating_scale=(1,5))\n",
    "data = Dataset.load_from_df(ratings, reader)"
   ]
  },
  {
   "cell_type": "code",
   "execution_count": 14,
   "metadata": {},
   "outputs": [],
   "source": [
    "#shuffle the ratings for unbiased result\n",
    "all_ratings = data.raw_ratings\n",
    "random.shuffle(all_ratings)"
   ]
  },
  {
   "cell_type": "code",
   "execution_count": 15,
   "metadata": {},
   "outputs": [],
   "source": [
    "#split data into train and test data with the ratio 70:30\n",
    "threshold = int(0.7 * len(all_ratings))\n",
    "train_ratings = all_ratings[:threshold]\n",
    "test_ratings = all_ratings[threshold:]"
   ]
  },
  {
   "cell_type": "code",
   "execution_count": 16,
   "metadata": {},
   "outputs": [],
   "source": [
    "def book_read(user_id):\n",
    "    '''Take user_id and return list of book that user has read'''\n",
    "    books_list = list(books['book_id'])\n",
    "    book_read_list = list(ratings['book_id'][ratings['user_id'] == user_id])\n",
    "    return books_list, book_read_list"
   ]
  },
  {
   "attachments": {},
   "cell_type": "markdown",
   "metadata": {},
   "source": [
    "### Singular Value Decomposition (SVD)"
   ]
  },
  {
   "attachments": {},
   "cell_type": "markdown",
   "metadata": {},
   "source": [
    "The famous SVD algorithm, as popularized by Simon Funk during the Netflix Prize. SVD finds the latent factors associated with some matrix. SVD will decompose user-rating matrix into matrices that represents latent user-user features and item-item features."
   ]
  },
  {
   "cell_type": "code",
   "execution_count": 17,
   "metadata": {},
   "outputs": [],
   "source": [
    "#change data to trainset\n",
    "data.raw_ratings = train_ratings \n",
    "\n",
    "#select algorithm\n",
    "svd = SVD(random_state=0)"
   ]
  },
  {
   "cell_type": "code",
   "execution_count": 18,
   "metadata": {},
   "outputs": [
    {
     "name": "stdout",
     "output_type": "stream",
     "text": [
      "Evaluating RMSE of algorithm SVD on 5 split(s).\n",
      "\n",
      "                  Fold 1  Fold 2  Fold 3  Fold 4  Fold 5  Mean    Std     \n",
      "RMSE (testset)    0.8503  0.8500  0.8484  0.8503  0.8510  0.8500  0.0009  \n",
      "Fit time          66.06   61.25   70.27   67.95   44.72   62.05   9.16    \n",
      "Test time         16.97   21.47   19.31   21.14   10.16   17.81   4.15    \n",
      "CPU times: total: 2min 24s\n",
      "Wall time: 4min 42s\n"
     ]
    }
   ],
   "source": [
    "%%time\n",
    "\n",
    "#cross validation for train data\n",
    "svd_result = cross_validate(svd, data, measures=[\"RMSE\"], cv=5, verbose=True, n_jobs = 2)"
   ]
  },
  {
   "cell_type": "code",
   "execution_count": 19,
   "metadata": {},
   "outputs": [
    {
     "name": "stdout",
     "output_type": "stream",
     "text": [
      "Train RMSE:\n",
      "RMSE: 0.6441\n",
      "Test RMSE:\n",
      "RMSE: 0.8386\n",
      "CPU times: total: 2min 56s\n",
      "Wall time: 3min 3s\n"
     ]
    }
   ],
   "source": [
    "%%time\n",
    "\n",
    "#retrain whole train test\n",
    "trainset = data.build_full_trainset()\n",
    "svd.fit(trainset)\n",
    "\n",
    "# Compute RMSE on trainset (without fold)\n",
    "svd_train_pred = svd.test(trainset.build_testset())\n",
    "print('Train RMSE:')\n",
    "train_rmse = accuracy.rmse(svd_train_pred)\n",
    "\n",
    "#compute RMSE on testset\n",
    "testset = data.construct_testset(test_ratings)\n",
    "svd_test_pred = svd.test(testset)\n",
    "print('Test RMSE:')\n",
    "test_rmse = accuracy.rmse(svd_test_pred)"
   ]
  },
  {
   "cell_type": "code",
   "execution_count": 20,
   "metadata": {},
   "outputs": [],
   "source": [
    "def get_recommendation_svd(user_id, n=5):\n",
    "    '''Give n recommendation to user_id'''\n",
    "    \n",
    "    all_books, user_books =  book_read(user_id)\n",
    "    next_books = [book for book in all_books if book not in user_books]\n",
    "    \n",
    "    if n <= len(next_books):\n",
    "        ratings = []\n",
    "        for book in next_books:\n",
    "            est = svd.predict(user_id, book).est\n",
    "            ratings.append((book, est))\n",
    "        ratings = sorted(ratings, key=lambda x: x[1], reverse=True)\n",
    "        book_ids = [id for id, rate in ratings[:n]]\n",
    "        return books[books.book_id.isin(book_ids)][['book_id', 'title', 'authors', 'year', 'pages', 'description', 'genres', 'average_rating', 'small_image_url']]\n",
    "    else:\n",
    "        print('Please reduce your recommendation request')\n",
    "        return"
   ]
  },
  {
   "cell_type": "code",
   "execution_count": 21,
   "metadata": {},
   "outputs": [
    {
     "name": "stdout",
     "output_type": "stream",
     "text": [
      "Please reduce your recommendation request\n"
     ]
    }
   ],
   "source": [
    "get_recommendation_svd(2, 5)"
   ]
  },
  {
   "cell_type": "code",
   "execution_count": 22,
   "metadata": {},
   "outputs": [],
   "source": [
    "def get_books_by_genre(df, genres):\n",
    "    return df[df.genres.str.contains('|'.join(genres), case=False)]"
   ]
  },
  {
   "cell_type": "code",
   "execution_count": null,
   "metadata": {},
   "outputs": [
    {
     "data": {
      "text/plain": [
       "pandas.core.frame.DataFrame"
      ]
     },
     "execution_count": 89,
     "metadata": {},
     "output_type": "execute_result"
    }
   ],
   "source": [
    "type(genres)"
   ]
  },
  {
   "attachments": {},
   "cell_type": "markdown",
   "metadata": {},
   "source": [
    "## Saving the SVD model"
   ]
  },
  {
   "cell_type": "code",
   "execution_count": 24,
   "metadata": {},
   "outputs": [],
   "source": [
    "import pickle\n",
    "\n",
    "\n",
    "with open('model.pkl', 'wb') as f:\n",
    "    pickle.dump(svd,f)"
   ]
  },
  {
   "cell_type": "code",
   "execution_count": 35,
   "metadata": {},
   "outputs": [
    {
     "data": {
      "text/plain": [
       "{'book_id': {21: 25, 23: 27, 15: 18, 20: 24, 1: 2},\n",
       " 'title': {21: 'Harry Potter and the Deathly Hallows (Harry Potter, #7)',\n",
       "  23: 'Harry Potter and the Half-Blood Prince (Harry Potter, #6)',\n",
       "  15: 'Harry Potter and the Prisoner of Azkaban (Harry Potter, #3)',\n",
       "  20: 'Harry Potter and the Goblet of Fire (Harry Potter, #4)',\n",
       "  1: \"Harry Potter and the Sorcerer's Stone (Harry Potter, #1)\"},\n",
       " 'authors': {21: 'J.K. Rowling, Mary GrandPré',\n",
       "  23: 'J.K. Rowling, Mary GrandPré',\n",
       "  15: 'J.K. Rowling, Mary GrandPré, Rufus Beck',\n",
       "  20: 'J.K. Rowling, Mary GrandPré',\n",
       "  1: 'J.K. Rowling, Mary GrandPré'},\n",
       " 'average_rating': {21: 4.61, 23: 4.54, 15: 4.53, 20: 4.53, 1: 4.44},\n",
       " 'ratings_count': {21: 1746574,\n",
       "  23: 1678823,\n",
       "  15: 1832823,\n",
       "  20: 1753043,\n",
       "  1: 4602479},\n",
       " 'score': {21: 4.557539449718259,\n",
       "  23: 4.492069644048632,\n",
       "  15: 4.486605122534423,\n",
       "  20: 4.484805254011454,\n",
       "  1: 4.425000618173237}}"
      ]
     },
     "execution_count": 35,
     "metadata": {},
     "output_type": "execute_result"
    }
   ],
   "source": [
    "books"
   ]
  },
  {
   "cell_type": "code",
   "execution_count": 36,
   "metadata": {},
   "outputs": [],
   "source": [
    "books_df = pd.read_csv(\"Dataset/books_cleaned.csv\")"
   ]
  },
  {
   "cell_type": "code",
   "execution_count": 39,
   "metadata": {},
   "outputs": [
    {
     "data": {
      "text/html": [
       "<div>\n",
       "<style scoped>\n",
       "    .dataframe tbody tr th:only-of-type {\n",
       "        vertical-align: middle;\n",
       "    }\n",
       "\n",
       "    .dataframe tbody tr th {\n",
       "        vertical-align: top;\n",
       "    }\n",
       "\n",
       "    .dataframe thead th {\n",
       "        text-align: right;\n",
       "    }\n",
       "</style>\n",
       "<table border=\"1\" class=\"dataframe\">\n",
       "  <thead>\n",
       "    <tr style=\"text-align: right;\">\n",
       "      <th></th>\n",
       "      <th>Unnamed: 0</th>\n",
       "      <th>book_id</th>\n",
       "      <th>title</th>\n",
       "      <th>authors</th>\n",
       "      <th>year</th>\n",
       "      <th>pages</th>\n",
       "      <th>description</th>\n",
       "      <th>genres</th>\n",
       "      <th>average_rating</th>\n",
       "      <th>ratings_count</th>\n",
       "      <th>books_count</th>\n",
       "      <th>small_image_url</th>\n",
       "    </tr>\n",
       "  </thead>\n",
       "  <tbody>\n",
       "    <tr>\n",
       "      <th>0</th>\n",
       "      <td>0</td>\n",
       "      <td>1</td>\n",
       "      <td>The Hunger Games (The Hunger Games, #1)</td>\n",
       "      <td>Suzanne Collins</td>\n",
       "      <td>2008</td>\n",
       "      <td>374</td>\n",
       "      <td>winning means fame and fortunelosing means cer...</td>\n",
       "      <td>youngadult, fiction, fantasy, sciencefiction, ...</td>\n",
       "      <td>4.34</td>\n",
       "      <td>4780653</td>\n",
       "      <td>272</td>\n",
       "      <td>https://images.gr-assets.com/books/1447303603s...</td>\n",
       "    </tr>\n",
       "    <tr>\n",
       "      <th>1</th>\n",
       "      <td>1</td>\n",
       "      <td>2</td>\n",
       "      <td>Harry Potter and the Sorcerer's Stone (Harry P...</td>\n",
       "      <td>J.K. Rowling, Mary GrandPré</td>\n",
       "      <td>1997</td>\n",
       "      <td>309</td>\n",
       "      <td>harry potters life is miserable his parents ar...</td>\n",
       "      <td>fantasy, fiction, youngadult, classics</td>\n",
       "      <td>4.44</td>\n",
       "      <td>4602479</td>\n",
       "      <td>491</td>\n",
       "      <td>https://images.gr-assets.com/books/1474154022s...</td>\n",
       "    </tr>\n",
       "    <tr>\n",
       "      <th>2</th>\n",
       "      <td>2</td>\n",
       "      <td>3</td>\n",
       "      <td>Twilight (Twilight, #1)</td>\n",
       "      <td>Stephenie Meyer</td>\n",
       "      <td>2005</td>\n",
       "      <td>501</td>\n",
       "      <td>about three things i was absolutely positive  ...</td>\n",
       "      <td>youngadult, fantasy, romance, fiction, paranormal</td>\n",
       "      <td>3.57</td>\n",
       "      <td>3866839</td>\n",
       "      <td>226</td>\n",
       "      <td>https://images.gr-assets.com/books/1361039443s...</td>\n",
       "    </tr>\n",
       "    <tr>\n",
       "      <th>3</th>\n",
       "      <td>3</td>\n",
       "      <td>4</td>\n",
       "      <td>To Kill a Mockingbird</td>\n",
       "      <td>Harper Lee</td>\n",
       "      <td>1960</td>\n",
       "      <td>324</td>\n",
       "      <td>the unforgettable novel of a childhood in a sl...</td>\n",
       "      <td>classics, fiction, historicalfiction, youngadult</td>\n",
       "      <td>4.25</td>\n",
       "      <td>3198671</td>\n",
       "      <td>487</td>\n",
       "      <td>https://images.gr-assets.com/books/1361975680s...</td>\n",
       "    </tr>\n",
       "    <tr>\n",
       "      <th>4</th>\n",
       "      <td>4</td>\n",
       "      <td>5</td>\n",
       "      <td>The Great Gatsby</td>\n",
       "      <td>F. Scott Fitzgerald</td>\n",
       "      <td>1925</td>\n",
       "      <td>200</td>\n",
       "      <td>alternate cover edition isbn  isbn13 the great...</td>\n",
       "      <td>classics, fiction, historicalfiction, romance</td>\n",
       "      <td>3.89</td>\n",
       "      <td>2683664</td>\n",
       "      <td>1356</td>\n",
       "      <td>https://images.gr-assets.com/books/1490528560s...</td>\n",
       "    </tr>\n",
       "  </tbody>\n",
       "</table>\n",
       "</div>"
      ],
      "text/plain": [
       "   Unnamed: 0  book_id                                              title  \\\n",
       "0           0        1            The Hunger Games (The Hunger Games, #1)   \n",
       "1           1        2  Harry Potter and the Sorcerer's Stone (Harry P...   \n",
       "2           2        3                            Twilight (Twilight, #1)   \n",
       "3           3        4                              To Kill a Mockingbird   \n",
       "4           4        5                                   The Great Gatsby   \n",
       "\n",
       "                       authors  year  pages  \\\n",
       "0              Suzanne Collins  2008    374   \n",
       "1  J.K. Rowling, Mary GrandPré  1997    309   \n",
       "2              Stephenie Meyer  2005    501   \n",
       "3                   Harper Lee  1960    324   \n",
       "4          F. Scott Fitzgerald  1925    200   \n",
       "\n",
       "                                         description  \\\n",
       "0  winning means fame and fortunelosing means cer...   \n",
       "1  harry potters life is miserable his parents ar...   \n",
       "2  about three things i was absolutely positive  ...   \n",
       "3  the unforgettable novel of a childhood in a sl...   \n",
       "4  alternate cover edition isbn  isbn13 the great...   \n",
       "\n",
       "                                              genres  average_rating  \\\n",
       "0  youngadult, fiction, fantasy, sciencefiction, ...            4.34   \n",
       "1             fantasy, fiction, youngadult, classics            4.44   \n",
       "2  youngadult, fantasy, romance, fiction, paranormal            3.57   \n",
       "3   classics, fiction, historicalfiction, youngadult            4.25   \n",
       "4      classics, fiction, historicalfiction, romance            3.89   \n",
       "\n",
       "   ratings_count  books_count  \\\n",
       "0        4780653          272   \n",
       "1        4602479          491   \n",
       "2        3866839          226   \n",
       "3        3198671          487   \n",
       "4        2683664         1356   \n",
       "\n",
       "                                     small_image_url  \n",
       "0  https://images.gr-assets.com/books/1447303603s...  \n",
       "1  https://images.gr-assets.com/books/1474154022s...  \n",
       "2  https://images.gr-assets.com/books/1361039443s...  \n",
       "3  https://images.gr-assets.com/books/1361975680s...  \n",
       "4  https://images.gr-assets.com/books/1490528560s...  "
      ]
     },
     "execution_count": 39,
     "metadata": {},
     "output_type": "execute_result"
    }
   ],
   "source": [
    "books_df.head()"
   ]
  },
  {
   "cell_type": "code",
   "execution_count": 37,
   "metadata": {},
   "outputs": [],
   "source": [
    "def get_book_id(book_title):\n",
    "    book = books_df[books_df['title']==book_title]\n",
    "    if len(book) > 0:\n",
    "        book_id = books_df['book_id'].iloc[0]\n",
    "        return book_id\n",
    "    else:\n",
    "        return None\n"
   ]
  },
  {
   "cell_type": "code",
   "execution_count": 42,
   "metadata": {},
   "outputs": [
    {
     "data": {
      "text/plain": [
       "1"
      ]
     },
     "execution_count": 42,
     "metadata": {},
     "output_type": "execute_result"
    }
   ],
   "source": [
    "get_book_id(\"The Great Gatsby\")"
   ]
  },
  {
   "cell_type": "code",
   "execution_count": 28,
   "metadata": {},
   "outputs": [],
   "source": [
    "def get_new_user_id(title_ratings, ratings_df):\n",
    "    # Get book IDs for the given book titles\n",
    "    book_ids = [get_book_id(title) for title in title_ratings.keys()]\n",
    "    \n",
    "    # Create a new row for the new user\n",
    "    new_user_id = ratings_df['user_id'].max() + 1\n",
    "    new_user_ratings = pd.DataFrame({\n",
    "        'user_id': [new_user_id] * len(book_ids),\n",
    "        'book_id': book_ids,\n",
    "        'rating': list(title_ratings.values())\n",
    "    })\n",
    "    \n",
    "    # Append the new user's ratings to the existing ratings dataframe\n",
    "    updated_ratings_df = pd.concat([rating_df, new_user_ratings], ignore_index=True)\n",
    "    \n",
    "    # Return the ID of the new user and the updated ratings dataframe\n",
    "    return new_user_id, updated_ratings_df\n"
   ]
  },
  {
   "cell_type": "code",
   "execution_count": 43,
   "metadata": {},
   "outputs": [
    {
     "ename": "NameError",
     "evalue": "name 'rating_df' is not defined",
     "output_type": "error",
     "traceback": [
      "\u001b[1;31m---------------------------------------------------------------------------\u001b[0m",
      "\u001b[1;31mNameError\u001b[0m                                 Traceback (most recent call last)",
      "Cell \u001b[1;32mIn[43], line 4\u001b[0m\n\u001b[0;32m      1\u001b[0m title_ratings \u001b[39m=\u001b[39m {\u001b[39m'\u001b[39m\u001b[39mThe Hunger Games\u001b[39m\u001b[39m'\u001b[39m: \u001b[39m5\u001b[39m, \u001b[39m'\u001b[39m\u001b[39mTo Kill a Mockingbird\u001b[39m\u001b[39m'\u001b[39m: \u001b[39m4\u001b[39m, \u001b[39m'\u001b[39m\u001b[39mPride and Prejudice\u001b[39m\u001b[39m'\u001b[39m: \u001b[39m3\u001b[39m}\n\u001b[0;32m      3\u001b[0m \u001b[39m# Get the ID of the new user and the updated ratings dataframe\u001b[39;00m\n\u001b[1;32m----> 4\u001b[0m new_user_id, updated_ratings_df \u001b[39m=\u001b[39m get_new_user_id(title_ratings, ratings)\n",
      "Cell \u001b[1;32mIn[28], line 14\u001b[0m, in \u001b[0;36mget_new_user_id\u001b[1;34m(title_ratings, ratings_df)\u001b[0m\n\u001b[0;32m      7\u001b[0m new_user_ratings \u001b[39m=\u001b[39m pd\u001b[39m.\u001b[39mDataFrame({\n\u001b[0;32m      8\u001b[0m     \u001b[39m'\u001b[39m\u001b[39muser_id\u001b[39m\u001b[39m'\u001b[39m: [new_user_id] \u001b[39m*\u001b[39m \u001b[39mlen\u001b[39m(book_ids),\n\u001b[0;32m      9\u001b[0m     \u001b[39m'\u001b[39m\u001b[39mbook_id\u001b[39m\u001b[39m'\u001b[39m: book_ids,\n\u001b[0;32m     10\u001b[0m     \u001b[39m'\u001b[39m\u001b[39mrating\u001b[39m\u001b[39m'\u001b[39m: \u001b[39mlist\u001b[39m(title_ratings\u001b[39m.\u001b[39mvalues())\n\u001b[0;32m     11\u001b[0m })\n\u001b[0;32m     13\u001b[0m \u001b[39m# Append the new user's ratings to the existing ratings dataframe\u001b[39;00m\n\u001b[1;32m---> 14\u001b[0m updated_ratings_df \u001b[39m=\u001b[39m pd\u001b[39m.\u001b[39mconcat([rating_df, new_user_ratings], ignore_index\u001b[39m=\u001b[39m\u001b[39mTrue\u001b[39;00m)\n\u001b[0;32m     16\u001b[0m \u001b[39m# Return the ID of the new user and the updated ratings dataframe\u001b[39;00m\n\u001b[0;32m     17\u001b[0m \u001b[39mreturn\u001b[39;00m new_user_id, updated_ratings_df\n",
      "\u001b[1;31mNameError\u001b[0m: name 'rating_df' is not defined"
     ]
    }
   ],
   "source": [
    "title_ratings = {'The Hunger Games': 5, 'To Kill a Mockingbird': 4, 'Pride and Prejudice': 3}\n",
    "\n",
    "# Get the ID of the new user and the updated ratings dataframe\n",
    "new_user_id, updated_ratings_df = get_new_user_id(title_ratings, ratings)"
   ]
  },
  {
   "cell_type": "code",
   "execution_count": 29,
   "metadata": {},
   "outputs": [
    {
     "ename": "KeyError",
     "evalue": "False",
     "output_type": "error",
     "traceback": [
      "\u001b[1;31m---------------------------------------------------------------------------\u001b[0m",
      "\u001b[1;31mKeyError\u001b[0m                                  Traceback (most recent call last)",
      "Cell \u001b[1;32mIn[29], line 4\u001b[0m\n\u001b[0;32m      1\u001b[0m title_ratings \u001b[39m=\u001b[39m {\u001b[39m'\u001b[39m\u001b[39mThe Hunger Games\u001b[39m\u001b[39m'\u001b[39m: \u001b[39m5\u001b[39m, \u001b[39m'\u001b[39m\u001b[39mTo Kill a Mockingbird\u001b[39m\u001b[39m'\u001b[39m: \u001b[39m4\u001b[39m, \u001b[39m'\u001b[39m\u001b[39mPride and Prejudice\u001b[39m\u001b[39m'\u001b[39m: \u001b[39m3\u001b[39m}\n\u001b[0;32m      3\u001b[0m \u001b[39m# Get the ID of the new user and the updated ratings dataframe\u001b[39;00m\n\u001b[1;32m----> 4\u001b[0m new_user_id, updated_ratings_df \u001b[39m=\u001b[39m get_new_user_id(title_ratings, ratings)\n",
      "Cell \u001b[1;32mIn[28], line 3\u001b[0m, in \u001b[0;36mget_new_user_id\u001b[1;34m(title_ratings, ratings_df)\u001b[0m\n\u001b[0;32m      1\u001b[0m \u001b[39mdef\u001b[39;00m \u001b[39mget_new_user_id\u001b[39m(title_ratings, ratings_df):\n\u001b[0;32m      2\u001b[0m     \u001b[39m# Get book IDs for the given book titles\u001b[39;00m\n\u001b[1;32m----> 3\u001b[0m     book_ids \u001b[39m=\u001b[39m [get_book_id(title) \u001b[39mfor\u001b[39;00m title \u001b[39min\u001b[39;00m title_ratings\u001b[39m.\u001b[39mkeys()]\n\u001b[0;32m      5\u001b[0m     \u001b[39m# Create a new row for the new user\u001b[39;00m\n\u001b[0;32m      6\u001b[0m     new_user_id \u001b[39m=\u001b[39m ratings_df[\u001b[39m'\u001b[39m\u001b[39muser_id\u001b[39m\u001b[39m'\u001b[39m]\u001b[39m.\u001b[39mmax() \u001b[39m+\u001b[39m \u001b[39m1\u001b[39m\n",
      "Cell \u001b[1;32mIn[28], line 3\u001b[0m, in \u001b[0;36m<listcomp>\u001b[1;34m(.0)\u001b[0m\n\u001b[0;32m      1\u001b[0m \u001b[39mdef\u001b[39;00m \u001b[39mget_new_user_id\u001b[39m(title_ratings, ratings_df):\n\u001b[0;32m      2\u001b[0m     \u001b[39m# Get book IDs for the given book titles\u001b[39;00m\n\u001b[1;32m----> 3\u001b[0m     book_ids \u001b[39m=\u001b[39m [get_book_id(title) \u001b[39mfor\u001b[39;00m title \u001b[39min\u001b[39;00m title_ratings\u001b[39m.\u001b[39mkeys()]\n\u001b[0;32m      5\u001b[0m     \u001b[39m# Create a new row for the new user\u001b[39;00m\n\u001b[0;32m      6\u001b[0m     new_user_id \u001b[39m=\u001b[39m ratings_df[\u001b[39m'\u001b[39m\u001b[39muser_id\u001b[39m\u001b[39m'\u001b[39m]\u001b[39m.\u001b[39mmax() \u001b[39m+\u001b[39m \u001b[39m1\u001b[39m\n",
      "Cell \u001b[1;32mIn[27], line 2\u001b[0m, in \u001b[0;36mget_book_id\u001b[1;34m(book_title)\u001b[0m\n\u001b[0;32m      1\u001b[0m \u001b[39mdef\u001b[39;00m \u001b[39mget_book_id\u001b[39m(book_title):\n\u001b[1;32m----> 2\u001b[0m     book \u001b[39m=\u001b[39m books[books[\u001b[39m'\u001b[39;49m\u001b[39mtitle\u001b[39;49m\u001b[39m'\u001b[39;49m]\u001b[39m==\u001b[39;49mbook_title]\n\u001b[0;32m      3\u001b[0m     \u001b[39mif\u001b[39;00m \u001b[39mlen\u001b[39m(book) \u001b[39m>\u001b[39m \u001b[39m0\u001b[39m:\n\u001b[0;32m      4\u001b[0m         book_id \u001b[39m=\u001b[39m book[\u001b[39m'\u001b[39m\u001b[39mbook_id\u001b[39m\u001b[39m'\u001b[39m]\u001b[39m.\u001b[39miloc[\u001b[39m0\u001b[39m]\n",
      "\u001b[1;31mKeyError\u001b[0m: False"
     ]
    }
   ],
   "source": [
    "title_ratings = {'The Hunger Games': 5, 'To Kill a Mockingbird': 4, 'Pride and Prejudice': 3}\n",
    "\n",
    "# Get the ID of the new user and the updated ratings dataframe\n",
    "new_user_id, updated_ratings_df = get_new_user_id(title_ratings, ratings)"
   ]
  },
  {
   "cell_type": "code",
   "execution_count": null,
   "metadata": {},
   "outputs": [],
   "source": []
  }
 ],
 "metadata": {
  "kernelspec": {
   "display_name": "base",
   "language": "python",
   "name": "python3"
  },
  "language_info": {
   "codemirror_mode": {
    "name": "ipython",
    "version": 3
   },
   "file_extension": ".py",
   "mimetype": "text/x-python",
   "name": "python",
   "nbconvert_exporter": "python",
   "pygments_lexer": "ipython3",
   "version": "3.10.9"
  },
  "orig_nbformat": 4
 },
 "nbformat": 4,
 "nbformat_minor": 2
}
